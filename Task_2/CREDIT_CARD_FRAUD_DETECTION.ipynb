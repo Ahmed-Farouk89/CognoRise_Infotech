{
 "cells": [
  {
   "cell_type": "code",
   "execution_count": 2,
   "id": "9f67a4c0-8bb7-4761-9940-035db0ded8e9",
   "metadata": {},
   "outputs": [],
   "source": [
    "# import all the needed libraries\n",
    "import pandas as pd\n",
    "import numpy as np\n",
    "import matplotlib.pyplot as plt\n",
    "from sklearn.model_selection import train_test_split\n",
    "from sklearn.linear_model import LogisticRegression\n",
    "from sklearn.metrics import classification_report, confusion_matrix, accuracy_score\n",
    "from sklearn.preprocessing import StandardScaler\n",
    "from sklearn.ensemble import RandomForestClassifier\n",
    "from sklearn.utils import resample\n",
    "from sklearn.model_selection import cross_val_score\n",
    "from imblearn.over_sampling import SMOTE\n",
    "from imblearn.under_sampling import RandomUnderSampler"
   ]
  },
  {
   "cell_type": "code",
   "execution_count": 3,
   "id": "bfb204b1-e9dd-42fa-93ee-d73d922a5666",
   "metadata": {},
   "outputs": [],
   "source": [
    "import warnings\n",
    "warnings.filterwarnings('ignore')"
   ]
  },
  {
   "cell_type": "code",
   "execution_count": 4,
   "id": "4ed15acc-4057-4f6b-ab4e-eeba8a1601d4",
   "metadata": {},
   "outputs": [
    {
     "data": {
      "text/html": [
       "<div>\n",
       "<style scoped>\n",
       "    .dataframe tbody tr th:only-of-type {\n",
       "        vertical-align: middle;\n",
       "    }\n",
       "\n",
       "    .dataframe tbody tr th {\n",
       "        vertical-align: top;\n",
       "    }\n",
       "\n",
       "    .dataframe thead th {\n",
       "        text-align: right;\n",
       "    }\n",
       "</style>\n",
       "<table border=\"1\" class=\"dataframe\">\n",
       "  <thead>\n",
       "    <tr style=\"text-align: right;\">\n",
       "      <th></th>\n",
       "      <th>Time</th>\n",
       "      <th>V1</th>\n",
       "      <th>V2</th>\n",
       "      <th>V3</th>\n",
       "      <th>V4</th>\n",
       "      <th>V5</th>\n",
       "      <th>V6</th>\n",
       "      <th>V7</th>\n",
       "      <th>V8</th>\n",
       "      <th>V9</th>\n",
       "      <th>...</th>\n",
       "      <th>V21</th>\n",
       "      <th>V22</th>\n",
       "      <th>V23</th>\n",
       "      <th>V24</th>\n",
       "      <th>V25</th>\n",
       "      <th>V26</th>\n",
       "      <th>V27</th>\n",
       "      <th>V28</th>\n",
       "      <th>Amount</th>\n",
       "      <th>Class</th>\n",
       "    </tr>\n",
       "  </thead>\n",
       "  <tbody>\n",
       "    <tr>\n",
       "      <th>0</th>\n",
       "      <td>0.0</td>\n",
       "      <td>-1.359807</td>\n",
       "      <td>-0.072781</td>\n",
       "      <td>2.536347</td>\n",
       "      <td>1.378155</td>\n",
       "      <td>-0.338321</td>\n",
       "      <td>0.462388</td>\n",
       "      <td>0.239599</td>\n",
       "      <td>0.098698</td>\n",
       "      <td>0.363787</td>\n",
       "      <td>...</td>\n",
       "      <td>-0.018307</td>\n",
       "      <td>0.277838</td>\n",
       "      <td>-0.110474</td>\n",
       "      <td>0.066928</td>\n",
       "      <td>0.128539</td>\n",
       "      <td>-0.189115</td>\n",
       "      <td>0.133558</td>\n",
       "      <td>-0.021053</td>\n",
       "      <td>149.62</td>\n",
       "      <td>0</td>\n",
       "    </tr>\n",
       "    <tr>\n",
       "      <th>1</th>\n",
       "      <td>0.0</td>\n",
       "      <td>1.191857</td>\n",
       "      <td>0.266151</td>\n",
       "      <td>0.166480</td>\n",
       "      <td>0.448154</td>\n",
       "      <td>0.060018</td>\n",
       "      <td>-0.082361</td>\n",
       "      <td>-0.078803</td>\n",
       "      <td>0.085102</td>\n",
       "      <td>-0.255425</td>\n",
       "      <td>...</td>\n",
       "      <td>-0.225775</td>\n",
       "      <td>-0.638672</td>\n",
       "      <td>0.101288</td>\n",
       "      <td>-0.339846</td>\n",
       "      <td>0.167170</td>\n",
       "      <td>0.125895</td>\n",
       "      <td>-0.008983</td>\n",
       "      <td>0.014724</td>\n",
       "      <td>2.69</td>\n",
       "      <td>0</td>\n",
       "    </tr>\n",
       "    <tr>\n",
       "      <th>2</th>\n",
       "      <td>1.0</td>\n",
       "      <td>-1.358354</td>\n",
       "      <td>-1.340163</td>\n",
       "      <td>1.773209</td>\n",
       "      <td>0.379780</td>\n",
       "      <td>-0.503198</td>\n",
       "      <td>1.800499</td>\n",
       "      <td>0.791461</td>\n",
       "      <td>0.247676</td>\n",
       "      <td>-1.514654</td>\n",
       "      <td>...</td>\n",
       "      <td>0.247998</td>\n",
       "      <td>0.771679</td>\n",
       "      <td>0.909412</td>\n",
       "      <td>-0.689281</td>\n",
       "      <td>-0.327642</td>\n",
       "      <td>-0.139097</td>\n",
       "      <td>-0.055353</td>\n",
       "      <td>-0.059752</td>\n",
       "      <td>378.66</td>\n",
       "      <td>0</td>\n",
       "    </tr>\n",
       "    <tr>\n",
       "      <th>3</th>\n",
       "      <td>1.0</td>\n",
       "      <td>-0.966272</td>\n",
       "      <td>-0.185226</td>\n",
       "      <td>1.792993</td>\n",
       "      <td>-0.863291</td>\n",
       "      <td>-0.010309</td>\n",
       "      <td>1.247203</td>\n",
       "      <td>0.237609</td>\n",
       "      <td>0.377436</td>\n",
       "      <td>-1.387024</td>\n",
       "      <td>...</td>\n",
       "      <td>-0.108300</td>\n",
       "      <td>0.005274</td>\n",
       "      <td>-0.190321</td>\n",
       "      <td>-1.175575</td>\n",
       "      <td>0.647376</td>\n",
       "      <td>-0.221929</td>\n",
       "      <td>0.062723</td>\n",
       "      <td>0.061458</td>\n",
       "      <td>123.50</td>\n",
       "      <td>0</td>\n",
       "    </tr>\n",
       "    <tr>\n",
       "      <th>4</th>\n",
       "      <td>2.0</td>\n",
       "      <td>-1.158233</td>\n",
       "      <td>0.877737</td>\n",
       "      <td>1.548718</td>\n",
       "      <td>0.403034</td>\n",
       "      <td>-0.407193</td>\n",
       "      <td>0.095921</td>\n",
       "      <td>0.592941</td>\n",
       "      <td>-0.270533</td>\n",
       "      <td>0.817739</td>\n",
       "      <td>...</td>\n",
       "      <td>-0.009431</td>\n",
       "      <td>0.798278</td>\n",
       "      <td>-0.137458</td>\n",
       "      <td>0.141267</td>\n",
       "      <td>-0.206010</td>\n",
       "      <td>0.502292</td>\n",
       "      <td>0.219422</td>\n",
       "      <td>0.215153</td>\n",
       "      <td>69.99</td>\n",
       "      <td>0</td>\n",
       "    </tr>\n",
       "  </tbody>\n",
       "</table>\n",
       "<p>5 rows × 31 columns</p>\n",
       "</div>"
      ],
      "text/plain": [
       "   Time        V1        V2        V3        V4        V5        V6        V7  \\\n",
       "0   0.0 -1.359807 -0.072781  2.536347  1.378155 -0.338321  0.462388  0.239599   \n",
       "1   0.0  1.191857  0.266151  0.166480  0.448154  0.060018 -0.082361 -0.078803   \n",
       "2   1.0 -1.358354 -1.340163  1.773209  0.379780 -0.503198  1.800499  0.791461   \n",
       "3   1.0 -0.966272 -0.185226  1.792993 -0.863291 -0.010309  1.247203  0.237609   \n",
       "4   2.0 -1.158233  0.877737  1.548718  0.403034 -0.407193  0.095921  0.592941   \n",
       "\n",
       "         V8        V9  ...       V21       V22       V23       V24       V25  \\\n",
       "0  0.098698  0.363787  ... -0.018307  0.277838 -0.110474  0.066928  0.128539   \n",
       "1  0.085102 -0.255425  ... -0.225775 -0.638672  0.101288 -0.339846  0.167170   \n",
       "2  0.247676 -1.514654  ...  0.247998  0.771679  0.909412 -0.689281 -0.327642   \n",
       "3  0.377436 -1.387024  ... -0.108300  0.005274 -0.190321 -1.175575  0.647376   \n",
       "4 -0.270533  0.817739  ... -0.009431  0.798278 -0.137458  0.141267 -0.206010   \n",
       "\n",
       "        V26       V27       V28  Amount  Class  \n",
       "0 -0.189115  0.133558 -0.021053  149.62      0  \n",
       "1  0.125895 -0.008983  0.014724    2.69      0  \n",
       "2 -0.139097 -0.055353 -0.059752  378.66      0  \n",
       "3 -0.221929  0.062723  0.061458  123.50      0  \n",
       "4  0.502292  0.219422  0.215153   69.99      0  \n",
       "\n",
       "[5 rows x 31 columns]"
      ]
     },
     "execution_count": 4,
     "metadata": {},
     "output_type": "execute_result"
    }
   ],
   "source": [
    "#load the data\n",
    "data = pd.read_csv('creditcard.csv')\n",
    "data.head()"
   ]
  },
  {
   "cell_type": "markdown",
   "id": "4898ce98-0dfc-40ef-ac24-daf824b46ab7",
   "metadata": {},
   "source": [
    "# Notes about the data\n",
    "    - Due to confidentiality issues, It contains only numerical input variables which are the result of a PCA transformation.\n",
    "    - Time, Amount and Class data are in normal format, and the rest of columns is in v1 v2 like variable names given for columns to hide the identity.\n",
    "    - This dataset presents transactions that occurred in two days, where we have 492 frauds out of 284,807 transactions. The dataset is highly unbalanced."
   ]
  },
  {
   "cell_type": "code",
   "execution_count": 5,
   "id": "3376f000-e944-433e-9146-f16e8f94a1f0",
   "metadata": {},
   "outputs": [
    {
     "data": {
      "text/plain": [
       "Time      0\n",
       "V1        0\n",
       "V2        0\n",
       "V3        0\n",
       "V4        0\n",
       "V5        0\n",
       "V6        0\n",
       "V7        0\n",
       "V8        0\n",
       "V9        0\n",
       "V10       0\n",
       "V11       0\n",
       "V12       0\n",
       "V13       0\n",
       "V14       0\n",
       "V15       0\n",
       "V16       0\n",
       "V17       0\n",
       "V18       0\n",
       "V19       0\n",
       "V20       0\n",
       "V21       0\n",
       "V22       0\n",
       "V23       0\n",
       "V24       0\n",
       "V25       0\n",
       "V26       0\n",
       "V27       0\n",
       "V28       0\n",
       "Amount    0\n",
       "Class     0\n",
       "dtype: int64"
      ]
     },
     "execution_count": 5,
     "metadata": {},
     "output_type": "execute_result"
    }
   ],
   "source": [
    "data.isna().sum() # to check if there is any nulls"
   ]
  },
  {
   "cell_type": "code",
   "execution_count": 6,
   "id": "9e261f5a-d886-4c70-b43e-9509fc4ae26a",
   "metadata": {},
   "outputs": [
    {
     "name": "stdout",
     "output_type": "stream",
     "text": [
      "<class 'pandas.core.frame.DataFrame'>\n",
      "RangeIndex: 284807 entries, 0 to 284806\n",
      "Data columns (total 31 columns):\n",
      " #   Column  Non-Null Count   Dtype  \n",
      "---  ------  --------------   -----  \n",
      " 0   Time    284807 non-null  float64\n",
      " 1   V1      284807 non-null  float64\n",
      " 2   V2      284807 non-null  float64\n",
      " 3   V3      284807 non-null  float64\n",
      " 4   V4      284807 non-null  float64\n",
      " 5   V5      284807 non-null  float64\n",
      " 6   V6      284807 non-null  float64\n",
      " 7   V7      284807 non-null  float64\n",
      " 8   V8      284807 non-null  float64\n",
      " 9   V9      284807 non-null  float64\n",
      " 10  V10     284807 non-null  float64\n",
      " 11  V11     284807 non-null  float64\n",
      " 12  V12     284807 non-null  float64\n",
      " 13  V13     284807 non-null  float64\n",
      " 14  V14     284807 non-null  float64\n",
      " 15  V15     284807 non-null  float64\n",
      " 16  V16     284807 non-null  float64\n",
      " 17  V17     284807 non-null  float64\n",
      " 18  V18     284807 non-null  float64\n",
      " 19  V19     284807 non-null  float64\n",
      " 20  V20     284807 non-null  float64\n",
      " 21  V21     284807 non-null  float64\n",
      " 22  V22     284807 non-null  float64\n",
      " 23  V23     284807 non-null  float64\n",
      " 24  V24     284807 non-null  float64\n",
      " 25  V25     284807 non-null  float64\n",
      " 26  V26     284807 non-null  float64\n",
      " 27  V27     284807 non-null  float64\n",
      " 28  V28     284807 non-null  float64\n",
      " 29  Amount  284807 non-null  float64\n",
      " 30  Class   284807 non-null  int64  \n",
      "dtypes: float64(30), int64(1)\n",
      "memory usage: 67.4 MB\n"
     ]
    }
   ],
   "source": [
    "data.info() # checking all the Data types"
   ]
  },
  {
   "cell_type": "code",
   "execution_count": 7,
   "id": "0f923033-f1d5-4d20-a198-5b61c51b8540",
   "metadata": {},
   "outputs": [
    {
     "data": {
      "text/plain": [
       "Class\n",
       "0    284315\n",
       "1       492\n",
       "Name: count, dtype: int64"
      ]
     },
     "execution_count": 7,
     "metadata": {},
     "output_type": "execute_result"
    }
   ],
   "source": [
    "data['Class'].value_counts() # checking for the imbalance"
   ]
  },
  {
   "cell_type": "code",
   "execution_count": 8,
   "id": "d943fc06-6e07-41dd-b9ec-425abe04f8a1",
   "metadata": {},
   "outputs": [
    {
     "data": {
      "text/plain": [
       "<Axes: xlabel='Class'>"
      ]
     },
     "execution_count": 8,
     "metadata": {},
     "output_type": "execute_result"
    },
    {
     "data": {
      "image/png": "[encoded data removed]",
      "text/plain": [
       "<Figure size 640x480 with 1 Axes>"
      ]
     },
     "metadata": {},
     "output_type": "display_data"
    }
   ],
   "source": [
    "data['Class'].value_counts().plot(kind = 'bar')"
   ]
  },
  {
   "cell_type": "markdown",
   "id": "a0d38a14-8ecb-4d01-a1ff-723b8b51d927",
   "metadata": {},
   "source": [
    "The data is highly imbalanced with the positive class (frauds) account for 0.172% of all transactions."
   ]
  },
  {
   "cell_type": "markdown",
   "id": "0eb60360-1cab-4adc-912d-484133806ece",
   "metadata": {},
   "source": [
    "### The data is in PCA transformed format so no EDA can be done"
   ]
  },
  {
   "cell_type": "markdown",
   "id": "3a2e3786-4efc-4269-afeb-9393850c9b31",
   "metadata": {},
   "source": [
    "# Explore different ways to work with the imbalanced data"
   ]
  },
  {
   "cell_type": "markdown",
   "id": "993585aa-861f-4ddc-b2e3-dc7d5dc816fd",
   "metadata": {},
   "source": [
    "## First lets try to train the model with the data as it is to be a reference point"
   ]
  },
  {
   "cell_type": "code",
   "execution_count": 9,
   "id": "6ec813a0-ffa8-4441-b671-dce98b4108c0",
   "metadata": {},
   "outputs": [],
   "source": [
    "# define our X and y\n",
    "X = data.drop(columns= 'Class')\n",
    "y = data['Class']"
   ]
  },
  {
   "cell_type": "code",
   "execution_count": 10,
   "id": "fa5801c4-59a2-49f7-94a4-00d3438f9e21",
   "metadata": {},
   "outputs": [],
   "source": [
    "# Scale the data\n",
    "scaler=StandardScaler()\n",
    "x=scaler.fit_transform(X)"
   ]
  },
  {
   "cell_type": "code",
   "execution_count": 11,
   "id": "51e5605c-f08f-4ac6-b0bc-5dfce51d0f50",
   "metadata": {},
   "outputs": [],
   "source": [
    "# train test split\n",
    "x_train, x_test, y_train, y_test=train_test_split(x,y, test_size=0.20, random_state=42)"
   ]
  },
  {
   "cell_type": "code",
   "execution_count": 12,
   "id": "73da559e-5a3a-43c5-a882-37aaede3b59c",
   "metadata": {},
   "outputs": [],
   "source": [
    "# train random forest model\n",
    "rf_model = RandomForestClassifier(random_state=42)\n",
    "# fit the model on the training data\n",
    "rf_model.fit(x_train,y_train)\n",
    "# make predictions \n",
    "y_pred = rf_model.predict(x_test)"
   ]
  },
  {
   "cell_type": "code",
   "execution_count": 13,
   "id": "1dad3fec-f17a-4b6a-9e92-8fac1cfd77db",
   "metadata": {},
   "outputs": [
    {
     "name": "stdout",
     "output_type": "stream",
     "text": [
      "                    precision    recall  f1-score   support\n",
      "\n",
      "class 0/ not fraud       1.00      1.00      1.00     56864\n",
      "     class 1/fraud       0.97      0.77      0.86        98\n",
      "\n",
      "          accuracy                           1.00     56962\n",
      "         macro avg       0.99      0.88      0.93     56962\n",
      "      weighted avg       1.00      1.00      1.00     56962\n",
      "\n"
     ]
    }
   ],
   "source": [
    "# evaluate the model\n",
    "target_names = ['class 0/ not fraud', 'class 1/fraud']\n",
    "print(classification_report(y_test, y_pred, target_names=target_names))\n"
   ]
  },
  {
   "cell_type": "code",
   "execution_count": 14,
   "id": "cb7f7e36-0b6c-4c09-b47d-0621d2812559",
   "metadata": {},
   "outputs": [
    {
     "data": {
      "text/plain": [
       "array([[56862,     2],\n",
       "       [   23,    75]], dtype=int64)"
      ]
     },
     "execution_count": 14,
     "metadata": {},
     "output_type": "execute_result"
    }
   ],
   "source": [
    "confusion_matrix(y_test, y_pred)"
   ]
  },
  {
   "cell_type": "markdown",
   "id": "931e6116-4e26-42b7-9c41-cec63a5837a8",
   "metadata": {},
   "source": [
    "### The model didn't overfit or underfit. The model performs so well when it comes to identifying non fraud cases, however we are interested in fraudulent cases which needs big improvement, especially in terms of recall, as it correctly identifies only 77% of actual fraud cases."
   ]
  },
  {
   "cell_type": "code",
   "execution_count": 15,
   "id": "d9630940-cd24-4aaf-8656-609cc61a7d57",
   "metadata": {},
   "outputs": [],
   "source": [
    "#train a logistic regression model\n",
    "lr_model = LogisticRegression(random_state=42)\n",
    "lr_model.fit(x_train, y_train)\n",
    "y_pred_lr = lr_model.predict(x_test)"
   ]
  },
  {
   "cell_type": "code",
   "execution_count": 16,
   "id": "2babcebe-3e6d-42fe-8bfb-e6e436e75808",
   "metadata": {},
   "outputs": [
    {
     "name": "stdout",
     "output_type": "stream",
     "text": [
      "                    precision    recall  f1-score   support\n",
      "\n",
      "class 0/ not fraud       1.00      1.00      1.00     56864\n",
      "     class 1/fraud       0.86      0.58      0.70        98\n",
      "\n",
      "          accuracy                           1.00     56962\n",
      "         macro avg       0.93      0.79      0.85     56962\n",
      "      weighted avg       1.00      1.00      1.00     56962\n",
      "\n"
     ]
    }
   ],
   "source": [
    "# evaluate the model\n",
    "target_names = ['class 0/ not fraud', 'class 1/fraud']\n",
    "print(classification_report(y_test, y_pred_lr, target_names=target_names))\n"
   ]
  },
  {
   "cell_type": "code",
   "execution_count": 17,
   "id": "ffac71f3-d76b-4ca0-a1ae-39e52d08740d",
   "metadata": {},
   "outputs": [
    {
     "data": {
      "text/plain": [
       "array([[56855,     9],\n",
       "       [   41,    57]], dtype=int64)"
      ]
     },
     "execution_count": 17,
     "metadata": {},
     "output_type": "execute_result"
    }
   ],
   "source": [
    "confusion_matrix(y_test, y_pred_lr)"
   ]
  },
  {
   "cell_type": "markdown",
   "id": "b34d82d2-aa4a-4659-a909-c12d57dcbe90",
   "metadata": {},
   "source": [
    "### the same goes for the logistic regression model, but it performed significantly worse than the random forest"
   ]
  },
  {
   "cell_type": "markdown",
   "id": "e69680d2-b1eb-4de2-b671-6fbbd81b3ac1",
   "metadata": {},
   "source": [
    "# Now lets try to address the class imbalance concerns"
   ]
  },
  {
   "cell_type": "markdown",
   "id": "79ff2955-78a3-4e3f-aeba-75ca6215dc77",
   "metadata": {},
   "source": [
    "## lets first try oversampling for the data"
   ]
  },
  {
   "cell_type": "code",
   "execution_count": 18,
   "id": "fe8448ed-d227-49d7-97df-a897fb278e98",
   "metadata": {},
   "outputs": [],
   "source": [
    "# Alternative simple method\n",
    "#maj_class = data[data['Class'] == 0]\n",
    "#min_class = data[data['Class'] == 1]\n",
    "##minority_upsampled = resample(min_class,\n",
    "#                              replace=True,  # Sample with replacement\n",
    "#                              n_samples=len(maj_class),  # Match number of majority class samples\n",
    "#                              random_state=42)  # For reproducibility\n",
    "#\n",
    "## Combine majority class with upsampled minority class\n",
    "#data_oversampled = pd.concat([maj_class, minority_upsampled])\n",
    "#\n",
    "## Shuffle the data\n",
    "#data_oversampled = data_oversampled.sample(frac=1, random_state=42).reset_index(drop=True)\n",
    "#\n",
    "#data_oversampled['Class'].value_counts()"
   ]
  },
  {
   "cell_type": "code",
   "execution_count": 25,
   "id": "d52b1065-56d1-4016-86b5-2659b2029d64",
   "metadata": {},
   "outputs": [
    {
     "data": {
      "text/plain": [
       "Class\n",
       "0    284315\n",
       "1    284315\n",
       "Name: count, dtype: int64"
      ]
     },
     "execution_count": 25,
     "metadata": {},
     "output_type": "execute_result"
    }
   ],
   "source": [
    "# using smote to oversample the dataset\n",
    "smote = SMOTE(random_state=42)\n",
    "X_over, y_over = smote.fit_resample(X, y)\n",
    "pd.Series(y_over).value_counts()"
   ]
  },
  {
   "cell_type": "code",
   "execution_count": 26,
   "id": "93b3d0bf-d0da-4d97-9071-fc27fd432c0e",
   "metadata": {},
   "outputs": [],
   "source": [
    "# using the standard scalar\n",
    "x_over = scaler.fit_transform(X_over)"
   ]
  },
  {
   "cell_type": "code",
   "execution_count": 27,
   "id": "8ffbdaa1-1dad-403f-84b2-55cdae2d7eba",
   "metadata": {},
   "outputs": [],
   "source": [
    "# spliting the data\n",
    "xo_train, xo_test, yo_train, yo_test=train_test_split(x_over,y_over, test_size=0.20, random_state=42)"
   ]
  },
  {
   "cell_type": "code",
   "execution_count": 28,
   "id": "1761fbec-a7f9-4d20-920a-118d1d24f305",
   "metadata": {},
   "outputs": [
    {
     "data": {
      "text/html": [
       "<style>#sk-container-id-1 {color: black;}#sk-container-id-1 pre{padding: 0;}#sk-container-id-1 div.sk-toggleable {background-color: white;}#sk-container-id-1 label.sk-toggleable__label {cursor: pointer;display: block;width: 100%;margin-bottom: 0;padding: 0.3em;box-sizing: border-box;text-align: center;}#sk-container-id-1 label.sk-toggleable__label-arrow:before {content: \"▸\";float: left;margin-right: 0.25em;color: #696969;}#sk-container-id-1 label.sk-toggleable__label-arrow:hover:before {color: black;}#sk-container-id-1 div.sk-estimator:hover label.sk-toggleable__label-arrow:before {color: black;}#sk-container-id-1 div.sk-toggleable__content {max-height: 0;max-width: 0;overflow: hidden;text-align: left;background-color: #f0f8ff;}#sk-container-id-1 div.sk-toggleable__content pre {margin: 0.2em;color: black;border-radius: 0.25em;background-color: #f0f8ff;}#sk-container-id-1 input.sk-toggleable__control:checked~div.sk-toggleable__content {max-height: 200px;max-width: 100%;overflow: auto;}#sk-container-id-1 input.sk-toggleable__control:checked~label.sk-toggleable__label-arrow:before {content: \"▾\";}#sk-container-id-1 div.sk-estimator input.sk-toggleable__control:checked~label.sk-toggleable__label {background-color: #d4ebff;}#sk-container-id-1 div.sk-label input.sk-toggleable__control:checked~label.sk-toggleable__label {background-color: #d4ebff;}#sk-container-id-1 input.sk-hidden--visually {border: 0;clip: rect(1px 1px 1px 1px);clip: rect(1px, 1px, 1px, 1px);height: 1px;margin: -1px;overflow: hidden;padding: 0;position: absolute;width: 1px;}#sk-container-id-1 div.sk-estimator {font-family: monospace;background-color: #f0f8ff;border: 1px dotted black;border-radius: 0.25em;box-sizing: border-box;margin-bottom: 0.5em;}#sk-container-id-1 div.sk-estimator:hover {background-color: #d4ebff;}#sk-container-id-1 div.sk-parallel-item::after {content: \"\";width: 100%;border-bottom: 1px solid gray;flex-grow: 1;}#sk-container-id-1 div.sk-label:hover label.sk-toggleable__label {background-color: #d4ebff;}#sk-container-id-1 div.sk-serial::before {content: \"\";position: absolute;border-left: 1px solid gray;box-sizing: border-box;top: 0;bottom: 0;left: 50%;z-index: 0;}#sk-container-id-1 div.sk-serial {display: flex;flex-direction: column;align-items: center;background-color: white;padding-right: 0.2em;padding-left: 0.2em;position: relative;}#sk-container-id-1 div.sk-item {position: relative;z-index: 1;}#sk-container-id-1 div.sk-parallel {display: flex;align-items: stretch;justify-content: center;background-color: white;position: relative;}#sk-container-id-1 div.sk-item::before, #sk-container-id-1 div.sk-parallel-item::before {content: \"\";position: absolute;border-left: 1px solid gray;box-sizing: border-box;top: 0;bottom: 0;left: 50%;z-index: -1;}#sk-container-id-1 div.sk-parallel-item {display: flex;flex-direction: column;z-index: 1;position: relative;background-color: white;}#sk-container-id-1 div.sk-parallel-item:first-child::after {align-self: flex-end;width: 50%;}#sk-container-id-1 div.sk-parallel-item:last-child::after {align-self: flex-start;width: 50%;}#sk-container-id-1 div.sk-parallel-item:only-child::after {width: 0;}#sk-container-id-1 div.sk-dashed-wrapped {border: 1px dashed gray;margin: 0 0.4em 0.5em 0.4em;box-sizing: border-box;padding-bottom: 0.4em;background-color: white;}#sk-container-id-1 div.sk-label label {font-family: monospace;font-weight: bold;display: inline-block;line-height: 1.2em;}#sk-container-id-1 div.sk-label-container {text-align: center;}#sk-container-id-1 div.sk-container {/* jupyter's `normalize.less` sets `[hidden] { display: none; }` but bootstrap.min.css set `[hidden] { display: none !important; }` so we also need the `!important` here to be able to override the default hidden behavior on the sphinx rendered scikit-learn.org. See: https://github.com/scikit-learn/scikit-learn/issues/21755 */display: inline-block !important;position: relative;}#sk-container-id-1 div.sk-text-repr-fallback {display: none;}</style><div id=\"sk-container-id-1\" class=\"sk-top-container\"><div class=\"sk-text-repr-fallback\"><pre>RandomForestClassifier(random_state=42)</pre><b>In a Jupyter environment, please rerun this cell to show the HTML representation or trust the notebook. <br />On GitHub, the HTML representation is unable to render, please try loading this page with nbviewer.org.</b></div><div class=\"sk-container\" hidden><div class=\"sk-item\"><div class=\"sk-estimator sk-toggleable\"><input class=\"sk-toggleable__control sk-hidden--visually\" id=\"sk-estimator-id-1\" type=\"checkbox\" checked><label for=\"sk-estimator-id-1\" class=\"sk-toggleable__label sk-toggleable__label-arrow\">RandomForestClassifier</label><div class=\"sk-toggleable__content\"><pre>RandomForestClassifier(random_state=42)</pre></div></div></div></div></div>"
      ],
      "text/plain": [
       "RandomForestClassifier(random_state=42)"
      ]
     },
     "execution_count": 28,
     "metadata": {},
     "output_type": "execute_result"
    }
   ],
   "source": [
    "# train the model on the new data\n",
    "rf_model.fit(xo_train,yo_train)"
   ]
  },
  {
   "cell_type": "code",
   "execution_count": 29,
   "id": "9a4a0c5c-7050-41ca-9a1d-31431c0aaa9a",
   "metadata": {},
   "outputs": [],
   "source": [
    "# making predections\n",
    "yo_pred_rf = rf_model.predict(xo_test)"
   ]
  },
  {
   "cell_type": "code",
   "execution_count": 30,
   "id": "9c7938c1-3f50-4dcb-8acb-c03e19b4057f",
   "metadata": {},
   "outputs": [
    {
     "name": "stdout",
     "output_type": "stream",
     "text": [
      "                    precision    recall  f1-score   support\n",
      "\n",
      "class 0/ not fraud       1.00      1.00      1.00     56750\n",
      "     class 1/fraud       1.00      1.00      1.00     56976\n",
      "\n",
      "          accuracy                           1.00    113726\n",
      "         macro avg       1.00      1.00      1.00    113726\n",
      "      weighted avg       1.00      1.00      1.00    113726\n",
      "\n"
     ]
    }
   ],
   "source": [
    "# evaluate the model\n",
    "target_names = ['class 0/ not fraud', 'class 1/fraud']\n",
    "print(classification_report(yo_test, yo_pred_rf, target_names=target_names))\n"
   ]
  },
  {
   "cell_type": "code",
   "execution_count": 31,
   "id": "84486a14-b734-45e7-97f5-3e0d935f3518",
   "metadata": {},
   "outputs": [
    {
     "data": {
      "text/plain": [
       "array([[56739,    11],\n",
       "       [    0, 56976]], dtype=int64)"
      ]
     },
     "execution_count": 31,
     "metadata": {},
     "output_type": "execute_result"
    }
   ],
   "source": [
    "confusion_matrix(yo_test, yo_pred_rf)"
   ]
  },
  {
   "cell_type": "markdown",
   "id": "78a8d99a-e4fc-4e63-ad52-19a61b9b0ab7",
   "metadata": {},
   "source": [
    "## It is highly possible that the random forest model over fit so lets try another model"
   ]
  },
  {
   "cell_type": "code",
   "execution_count": 32,
   "id": "4a211dd9-41fa-4638-b160-3d891c4b344c",
   "metadata": {},
   "outputs": [],
   "source": [
    "# logistic regression\n",
    "lr_model.fit(xo_train, yo_train)\n",
    "yo_pred_lr = lr_model.predict(xo_test)"
   ]
  },
  {
   "cell_type": "code",
   "execution_count": 33,
   "id": "f02ffe05-6eec-4a36-a8fd-e84506ec54e9",
   "metadata": {},
   "outputs": [
    {
     "data": {
      "text/plain": [
       "array([[56245,   505],\n",
       "       [ 1698, 55278]], dtype=int64)"
      ]
     },
     "execution_count": 33,
     "metadata": {},
     "output_type": "execute_result"
    }
   ],
   "source": [
    "confusion_matrix(yo_test, yo_pred_lr)"
   ]
  },
  {
   "cell_type": "code",
   "execution_count": 34,
   "id": "ae1e8db7-ac0e-446b-b2c7-f1e11ac42422",
   "metadata": {},
   "outputs": [
    {
     "name": "stdout",
     "output_type": "stream",
     "text": [
      "                    precision    recall  f1-score   support\n",
      "\n",
      "class 0/ not fraud       0.97      0.99      0.98     56750\n",
      "     class 1/fraud       0.99      0.97      0.98     56976\n",
      "\n",
      "          accuracy                           0.98    113726\n",
      "         macro avg       0.98      0.98      0.98    113726\n",
      "      weighted avg       0.98      0.98      0.98    113726\n",
      "\n"
     ]
    }
   ],
   "source": [
    "# evaluate the model\n",
    "target_names = ['class 0/ not fraud', 'class 1/fraud']\n",
    "print(classification_report(yo_test, yo_pred_lr, target_names=target_names))"
   ]
  },
  {
   "cell_type": "markdown",
   "id": "8ce116b3-7894-4163-a7ca-61656137f6d7",
   "metadata": {},
   "source": [
    "### The model demonstrates great performance, but some slight improvement could be made in recall for fraud detection to reach even higher accuracy."
   ]
  },
  {
   "cell_type": "markdown",
   "id": "a126ca93-d6b8-4710-abd3-ba42fdece102",
   "metadata": {},
   "source": [
    "# Now lets try undersampling"
   ]
  },
  {
   "cell_type": "code",
   "execution_count": 35,
   "id": "f9e60bdc-4026-4302-bc42-112a427632ab",
   "metadata": {},
   "outputs": [
    {
     "data": {
      "text/plain": [
       "Class\n",
       "0    492\n",
       "1    492\n",
       "Name: count, dtype: int64"
      ]
     },
     "execution_count": 35,
     "metadata": {},
     "output_type": "execute_result"
    }
   ],
   "source": [
    "# Undersampling our dataset\n",
    "rus = RandomUnderSampler(random_state = 42)\n",
    "X_under, y_under = rus.fit_resample(X, y)\n",
    "\n",
    "pd.Series(y_under).value_counts()\n"
   ]
  },
  {
   "cell_type": "code",
   "execution_count": 36,
   "id": "3724d25a-6b5d-4e6e-aa11-861179219fcf",
   "metadata": {},
   "outputs": [],
   "source": [
    "# using standard scalar\n",
    "x_under = scaler.fit_transform(X_under)"
   ]
  },
  {
   "cell_type": "code",
   "execution_count": 37,
   "id": "0b9e9631-5170-4e92-9bac-256d4d0404b2",
   "metadata": {},
   "outputs": [],
   "source": [
    "#spliting the data\n",
    "xu_train, xu_test, yu_train, yu_test=train_test_split(x_under,y_under, test_size=0.20, random_state=42)"
   ]
  },
  {
   "cell_type": "code",
   "execution_count": 38,
   "id": "f4bb322a-1e09-4314-848c-caa7afdb063b",
   "metadata": {},
   "outputs": [
    {
     "data": {
      "text/html": [
       "<style>#sk-container-id-2 {color: black;}#sk-container-id-2 pre{padding: 0;}#sk-container-id-2 div.sk-toggleable {background-color: white;}#sk-container-id-2 label.sk-toggleable__label {cursor: pointer;display: block;width: 100%;margin-bottom: 0;padding: 0.3em;box-sizing: border-box;text-align: center;}#sk-container-id-2 label.sk-toggleable__label-arrow:before {content: \"▸\";float: left;margin-right: 0.25em;color: #696969;}#sk-container-id-2 label.sk-toggleable__label-arrow:hover:before {color: black;}#sk-container-id-2 div.sk-estimator:hover label.sk-toggleable__label-arrow:before {color: black;}#sk-container-id-2 div.sk-toggleable__content {max-height: 0;max-width: 0;overflow: hidden;text-align: left;background-color: #f0f8ff;}#sk-container-id-2 div.sk-toggleable__content pre {margin: 0.2em;color: black;border-radius: 0.25em;background-color: #f0f8ff;}#sk-container-id-2 input.sk-toggleable__control:checked~div.sk-toggleable__content {max-height: 200px;max-width: 100%;overflow: auto;}#sk-container-id-2 input.sk-toggleable__control:checked~label.sk-toggleable__label-arrow:before {content: \"▾\";}#sk-container-id-2 div.sk-estimator input.sk-toggleable__control:checked~label.sk-toggleable__label {background-color: #d4ebff;}#sk-container-id-2 div.sk-label input.sk-toggleable__control:checked~label.sk-toggleable__label {background-color: #d4ebff;}#sk-container-id-2 input.sk-hidden--visually {border: 0;clip: rect(1px 1px 1px 1px);clip: rect(1px, 1px, 1px, 1px);height: 1px;margin: -1px;overflow: hidden;padding: 0;position: absolute;width: 1px;}#sk-container-id-2 div.sk-estimator {font-family: monospace;background-color: #f0f8ff;border: 1px dotted black;border-radius: 0.25em;box-sizing: border-box;margin-bottom: 0.5em;}#sk-container-id-2 div.sk-estimator:hover {background-color: #d4ebff;}#sk-container-id-2 div.sk-parallel-item::after {content: \"\";width: 100%;border-bottom: 1px solid gray;flex-grow: 1;}#sk-container-id-2 div.sk-label:hover label.sk-toggleable__label {background-color: #d4ebff;}#sk-container-id-2 div.sk-serial::before {content: \"\";position: absolute;border-left: 1px solid gray;box-sizing: border-box;top: 0;bottom: 0;left: 50%;z-index: 0;}#sk-container-id-2 div.sk-serial {display: flex;flex-direction: column;align-items: center;background-color: white;padding-right: 0.2em;padding-left: 0.2em;position: relative;}#sk-container-id-2 div.sk-item {position: relative;z-index: 1;}#sk-container-id-2 div.sk-parallel {display: flex;align-items: stretch;justify-content: center;background-color: white;position: relative;}#sk-container-id-2 div.sk-item::before, #sk-container-id-2 div.sk-parallel-item::before {content: \"\";position: absolute;border-left: 1px solid gray;box-sizing: border-box;top: 0;bottom: 0;left: 50%;z-index: -1;}#sk-container-id-2 div.sk-parallel-item {display: flex;flex-direction: column;z-index: 1;position: relative;background-color: white;}#sk-container-id-2 div.sk-parallel-item:first-child::after {align-self: flex-end;width: 50%;}#sk-container-id-2 div.sk-parallel-item:last-child::after {align-self: flex-start;width: 50%;}#sk-container-id-2 div.sk-parallel-item:only-child::after {width: 0;}#sk-container-id-2 div.sk-dashed-wrapped {border: 1px dashed gray;margin: 0 0.4em 0.5em 0.4em;box-sizing: border-box;padding-bottom: 0.4em;background-color: white;}#sk-container-id-2 div.sk-label label {font-family: monospace;font-weight: bold;display: inline-block;line-height: 1.2em;}#sk-container-id-2 div.sk-label-container {text-align: center;}#sk-container-id-2 div.sk-container {/* jupyter's `normalize.less` sets `[hidden] { display: none; }` but bootstrap.min.css set `[hidden] { display: none !important; }` so we also need the `!important` here to be able to override the default hidden behavior on the sphinx rendered scikit-learn.org. See: https://github.com/scikit-learn/scikit-learn/issues/21755 */display: inline-block !important;position: relative;}#sk-container-id-2 div.sk-text-repr-fallback {display: none;}</style><div id=\"sk-container-id-2\" class=\"sk-top-container\"><div class=\"sk-text-repr-fallback\"><pre>RandomForestClassifier(random_state=42)</pre><b>In a Jupyter environment, please rerun this cell to show the HTML representation or trust the notebook. <br />On GitHub, the HTML representation is unable to render, please try loading this page with nbviewer.org.</b></div><div class=\"sk-container\" hidden><div class=\"sk-item\"><div class=\"sk-estimator sk-toggleable\"><input class=\"sk-toggleable__control sk-hidden--visually\" id=\"sk-estimator-id-2\" type=\"checkbox\" checked><label for=\"sk-estimator-id-2\" class=\"sk-toggleable__label sk-toggleable__label-arrow\">RandomForestClassifier</label><div class=\"sk-toggleable__content\"><pre>RandomForestClassifier(random_state=42)</pre></div></div></div></div></div>"
      ],
      "text/plain": [
       "RandomForestClassifier(random_state=42)"
      ]
     },
     "execution_count": 38,
     "metadata": {},
     "output_type": "execute_result"
    }
   ],
   "source": [
    "# train the model on the undersampled data\n",
    "rf_model.fit(xu_train,yu_train)"
   ]
  },
  {
   "cell_type": "code",
   "execution_count": 39,
   "id": "35ee6077-cb08-4912-90f2-cd6e47c78ca6",
   "metadata": {},
   "outputs": [],
   "source": [
    "# make predictions \n",
    "yu_pred_rf = rf_model.predict(xu_test)"
   ]
  },
  {
   "cell_type": "code",
   "execution_count": 40,
   "id": "35c6a668-7817-4e97-9785-3b536f79b63b",
   "metadata": {},
   "outputs": [
    {
     "name": "stdout",
     "output_type": "stream",
     "text": [
      "                    precision    recall  f1-score   support\n",
      "\n",
      "class 0/ not fraud       0.90      0.96      0.93        99\n",
      "     class 1/fraud       0.96      0.89      0.92        98\n",
      "\n",
      "          accuracy                           0.92       197\n",
      "         macro avg       0.93      0.92      0.92       197\n",
      "      weighted avg       0.93      0.92      0.92       197\n",
      "\n"
     ]
    }
   ],
   "source": [
    "# evaluate the model\n",
    "target_names = ['class 0/ not fraud', 'class 1/fraud']\n",
    "print(classification_report(yu_test, yu_pred_rf, target_names=target_names))\n"
   ]
  },
  {
   "cell_type": "code",
   "execution_count": 41,
   "id": "292a4b54-65b5-4399-823a-d43144e62909",
   "metadata": {},
   "outputs": [
    {
     "data": {
      "text/plain": [
       "array([[95,  4],\n",
       "       [11, 87]], dtype=int64)"
      ]
     },
     "execution_count": 41,
     "metadata": {},
     "output_type": "execute_result"
    }
   ],
   "source": [
    "confusion_matrix(yu_test, yu_pred_rf)"
   ]
  },
  {
   "cell_type": "markdown",
   "id": "de272dd9-6de2-4060-8be4-038dcffb6495",
   "metadata": {},
   "source": [
    "# Now lets try the logistic regression model"
   ]
  },
  {
   "cell_type": "code",
   "execution_count": 42,
   "id": "a8afc4d6-0ea6-49d6-a020-90fbbf525a3e",
   "metadata": {},
   "outputs": [],
   "source": [
    "# logistic regression\n",
    "lr_model.fit(xu_train, yu_train)\n",
    "yu_pred_lr = lr_model.predict(xu_test)"
   ]
  },
  {
   "cell_type": "code",
   "execution_count": 43,
   "id": "d0b005ac-3139-4de8-8769-9a90333e86a5",
   "metadata": {},
   "outputs": [
    {
     "name": "stdout",
     "output_type": "stream",
     "text": [
      "                    precision    recall  f1-score   support\n",
      "\n",
      "class 0/ not fraud       0.90      0.96      0.93        99\n",
      "     class 1/fraud       0.96      0.90      0.93        98\n",
      "\n",
      "          accuracy                           0.93       197\n",
      "         macro avg       0.93      0.93      0.93       197\n",
      "      weighted avg       0.93      0.93      0.93       197\n",
      "\n"
     ]
    }
   ],
   "source": [
    "# evaluate the model\n",
    "target_names = ['class 0/ not fraud', 'class 1/fraud']\n",
    "print(classification_report(yu_test, yu_pred_lr, target_names=target_names))\n"
   ]
  },
  {
   "cell_type": "code",
   "execution_count": 44,
   "id": "61d4221b-64cb-4eba-94b4-02753c2ed2f7",
   "metadata": {},
   "outputs": [
    {
     "data": {
      "text/plain": [
       "array([[95,  4],\n",
       "       [10, 88]], dtype=int64)"
      ]
     },
     "execution_count": 44,
     "metadata": {},
     "output_type": "execute_result"
    }
   ],
   "source": [
    "confusion_matrix(yu_test, yu_pred_lr)"
   ]
  },
  {
   "cell_type": "markdown",
   "id": "2dbf726a-0f78-4387-b3e7-0a29737625a9",
   "metadata": {},
   "source": [
    "# Conclusion"
   ]
  },
  {
   "cell_type": "markdown",
   "id": "259bb673-eb4b-4bc4-83ea-4a31dadea857",
   "metadata": {},
   "source": [
    "\n",
    "\r\n",
    "Both **oversampling** and **undersampling** techniques significantly improved the recall, precision, and F1-score, particularly for detecting fraudulent cases.\r\n",
    "\r\n",
    "- In the case of **oversampling**, the **Random Forest** moshowedited signs of overfitting. However, the **Logistic Regression** model performed exceptionally well, achieving a **92% recall**, **95% F1-score**, and **98% precision** in detecting fraudulent transactions, along with an overall **95% accuracy**.\r\n",
    "\r\n",
    "- When applying **undersampling**, both models performed similarly. Nevertheless, the **Logistic Regression** model again slightly outperformed, with a **90% recall**, **93% F1-score**, **96% precision**, and an overall **93% accuracy**.\r\n",
    "\r\n",
    "These results suggest that **Logistic Regression** provides a more balanced and reliable approach when dealing with imbalanced datasets, particularly in detecting fraud cases, while maintaining strong overall performance.\r\n"
   ]
  },
  {
   "cell_type": "code",
   "execution_count": null,
   "id": "ff2e95c6-6731-4cf8-87fd-5b8b4b9ac04a",
   "metadata": {},
   "outputs": [],
   "source": []
  }
 ],
 "metadata": {
  "kernelspec": {
   "display_name": "Python 3 (ipykernel)",
   "language": "python",
   "name": "python3"
  },
  "language_info": {
   "codemirror_mode": {
    "name": "ipython",
    "version": 3
   },
   "file_extension": ".py",
   "mimetype": "text/x-python",
   "name": "python",
   "nbconvert_exporter": "python",
   "pygments_lexer": "ipython3",
   "version": "3.11.5"
  }
 },
 "nbformat": 4,
 "nbformat_minor": 5
}
